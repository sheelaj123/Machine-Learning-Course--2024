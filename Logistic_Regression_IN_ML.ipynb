{
  "nbformat": 4,
  "nbformat_minor": 0,
  "metadata": {
    "colab": {
      "provenance": [],
      "authorship_tag": "ABX9TyM5ArFtDgzquEzjbtH8YakE",
      "include_colab_link": true
    },
    "kernelspec": {
      "name": "python3",
      "display_name": "Python 3"
    },
    "language_info": {
      "name": "python"
    }
  },
  "cells": [
    {
      "cell_type": "markdown",
      "metadata": {
        "id": "view-in-github",
        "colab_type": "text"
      },
      "source": [
        "<a href=\"https://colab.research.google.com/github/sheelaj123/Machine-Learning-Course--2024/blob/main/Logistic_Regression_IN_ML.ipynb\" target=\"_parent\"><img src=\"https://colab.research.google.com/assets/colab-badge.svg\" alt=\"Open In Colab\"/></a>"
      ]
    },
    {
      "cell_type": "markdown",
      "source": [
        "# Machine Learning - Logistic Regression: Easily understanble:  ----\n",
"#Logistic Regression:  is used when the response variable takes on a categorical value such as: True/false, yes/No, win/loss \n",
        "\n",
        "It is a supervised Machine Learning algorithm, primarily used for binary classification.  For a given sample, Logistic Regression computes the probability of a sample belonging to each of the classes.\n",
        "\n",
        "The probabilities are computed using the non-linear sigmoid or logistic function given below:\n",
        "\n",
        "---\n",
        "\n",
        "x1, x2​​​​, x3,...,xn​​​ are the input feature values or predictor values.\n",
        "\n",
        "ß1, ß2, ..., ßn are coefficients associated with the input features which help decide how much influence a feature will have on the final sigmoid(z) value.\n",
        "\n",
        "ß0 is called the intercept.\n",
        "\n",
        "The graph of the sigmoid function is given below -"
      ],
      "metadata": {
        "id": "k-YWcgbnlrKU"
      }
    },
    {
      "cell_type": "code",
      "execution_count": null,
      "metadata": {
        "id": "Jm3ZFKhrlZsL"
      },
      "outputs": [],
      "source": []
    },
    {
      "cell_type": "markdown",
      "source": [
        "#Logistic Regression on Coronary Heart Disease data:\n",
        "---\n",
        "Consider a coronary heart disease dataset which lists the age in years ('age') and the presence/absence of evidence of significant coronary heart disease ('chd') for 100 patients.\n",
        "\n",
        "Download the Coronary heart disease dataset here.\n",
        "\n",
        "Let us first import the data."
      ],
      "metadata": {
        "id": "iuG_SQrwl4ra"
      }
    },
    {
      "cell_type": "code",
      "source": [
        "import pandas as pd\n",
        "import numpy as np\n",
        "import matplotlib.pyplot as plt"
      ],
      "metadata": {
        "id": "uIu962Fnm7sD"
      },
      "execution_count": 9,
      "outputs": []
    },
    {
      "cell_type": "code",
      "source": [
        "# Importing the required library\n",
        "import pandas as pd\n",
        "# Importing the dataset\n",
        "chd = pd.read_csv(\"chd_data.csv\")\n",
        "# Printing the first 5 rows\n",
        "chd.head()\n"
      ],
      "metadata": {
        "colab": {
          "base_uri": "https://localhost:8080/",
          "height": 206
        },
        "id": "o1BSDar6l5sI",
        "outputId": "178609dd-04b2-42b1-a374-e50b2c40aa88"
      },
      "execution_count": 10,
      "outputs": [
        {
          "output_type": "execute_result",
          "data": {
            "text/plain": [
              "   age  chd\n",
              "0   20    0\n",
              "1   23    0\n",
              "2   24    0\n",
              "3   25    1\n",
              "4   25    0"
            ],
            "text/html": [
              "\n",
              "  <div id=\"df-35a0379b-42d1-4ed8-b5eb-5183894a317b\" class=\"colab-df-container\">\n",
              "    <div>\n",
              "<style scoped>\n",
              "    .dataframe tbody tr th:only-of-type {\n",
              "        vertical-align: middle;\n",
              "    }\n",
              "\n",
              "    .dataframe tbody tr th {\n",
              "        vertical-align: top;\n",
              "    }\n",
              "\n",
              "    .dataframe thead th {\n",
              "        text-align: right;\n",
              "    }\n",
              "</style>\n",
              "<table border=\"1\" class=\"dataframe\">\n",
              "  <thead>\n",
              "    <tr style=\"text-align: right;\">\n",
              "      <th></th>\n",
              "      <th>age</th>\n",
              "      <th>chd</th>\n",
              "    </tr>\n",
              "  </thead>\n",
              "  <tbody>\n",
              "    <tr>\n",
              "      <th>0</th>\n",
              "      <td>20</td>\n",
              "      <td>0</td>\n",
              "    </tr>\n",
              "    <tr>\n",
              "      <th>1</th>\n",
              "      <td>23</td>\n",
              "      <td>0</td>\n",
              "    </tr>\n",
              "    <tr>\n",
              "      <th>2</th>\n",
              "      <td>24</td>\n",
              "      <td>0</td>\n",
              "    </tr>\n",
              "    <tr>\n",
              "      <th>3</th>\n",
              "      <td>25</td>\n",
              "      <td>1</td>\n",
              "    </tr>\n",
              "    <tr>\n",
              "      <th>4</th>\n",
              "      <td>25</td>\n",
              "      <td>0</td>\n",
              "    </tr>\n",
              "  </tbody>\n",
              "</table>\n",
              "</div>\n",
              "    <div class=\"colab-df-buttons\">\n",
              "\n",
              "  <div class=\"colab-df-container\">\n",
              "    <button class=\"colab-df-convert\" onclick=\"convertToInteractive('df-35a0379b-42d1-4ed8-b5eb-5183894a317b')\"\n",
              "            title=\"Convert this dataframe to an interactive table.\"\n",
              "            style=\"display:none;\">\n",
              "\n",
              "  <svg xmlns=\"http://www.w3.org/2000/svg\" height=\"24px\" viewBox=\"0 -960 960 960\">\n",
              "    <path d=\"M120-120v-720h720v720H120Zm60-500h600v-160H180v160Zm220 220h160v-160H400v160Zm0 220h160v-160H400v160ZM180-400h160v-160H180v160Zm440 0h160v-160H620v160ZM180-180h160v-160H180v160Zm440 0h160v-160H620v160Z\"/>\n",
              "  </svg>\n",
              "    </button>\n",
              "\n",
              "  <style>\n",
              "    .colab-df-container {\n",
              "      display:flex;\n",
              "      gap: 12px;\n",
              "    }\n",
              "\n",
              "    .colab-df-convert {\n",
              "      background-color: #E8F0FE;\n",
              "      border: none;\n",
              "      border-radius: 50%;\n",
              "      cursor: pointer;\n",
              "      display: none;\n",
              "      fill: #1967D2;\n",
              "      height: 32px;\n",
              "      padding: 0 0 0 0;\n",
              "      width: 32px;\n",
              "    }\n",
              "\n",
              "    .colab-df-convert:hover {\n",
              "      background-color: #E2EBFA;\n",
              "      box-shadow: 0px 1px 2px rgba(60, 64, 67, 0.3), 0px 1px 3px 1px rgba(60, 64, 67, 0.15);\n",
              "      fill: #174EA6;\n",
              "    }\n",
              "\n",
              "    .colab-df-buttons div {\n",
              "      margin-bottom: 4px;\n",
              "    }\n",
              "\n",
              "    [theme=dark] .colab-df-convert {\n",
              "      background-color: #3B4455;\n",
              "      fill: #D2E3FC;\n",
              "    }\n",
              "\n",
              "    [theme=dark] .colab-df-convert:hover {\n",
              "      background-color: #434B5C;\n",
              "      box-shadow: 0px 1px 3px 1px rgba(0, 0, 0, 0.15);\n",
              "      filter: drop-shadow(0px 1px 2px rgba(0, 0, 0, 0.3));\n",
              "      fill: #FFFFFF;\n",
              "    }\n",
              "  </style>\n",
              "\n",
              "    <script>\n",
              "      const buttonEl =\n",
              "        document.querySelector('#df-35a0379b-42d1-4ed8-b5eb-5183894a317b button.colab-df-convert');\n",
              "      buttonEl.style.display =\n",
              "        google.colab.kernel.accessAllowed ? 'block' : 'none';\n",
              "\n",
              "      async function convertToInteractive(key) {\n",
              "        const element = document.querySelector('#df-35a0379b-42d1-4ed8-b5eb-5183894a317b');\n",
              "        const dataTable =\n",
              "          await google.colab.kernel.invokeFunction('convertToInteractive',\n",
              "                                                    [key], {});\n",
              "        if (!dataTable) return;\n",
              "\n",
              "        const docLinkHtml = 'Like what you see? Visit the ' +\n",
              "          '<a target=\"_blank\" href=https://colab.research.google.com/notebooks/data_table.ipynb>data table notebook</a>'\n",
              "          + ' to learn more about interactive tables.';\n",
              "        element.innerHTML = '';\n",
              "        dataTable['output_type'] = 'display_data';\n",
              "        await google.colab.output.renderOutput(dataTable, element);\n",
              "        const docLink = document.createElement('div');\n",
              "        docLink.innerHTML = docLinkHtml;\n",
              "        element.appendChild(docLink);\n",
              "      }\n",
              "    </script>\n",
              "  </div>\n",
              "\n",
              "\n",
              "<div id=\"df-746d9df5-7cf8-45c8-b229-04a283788569\">\n",
              "  <button class=\"colab-df-quickchart\" onclick=\"quickchart('df-746d9df5-7cf8-45c8-b229-04a283788569')\"\n",
              "            title=\"Suggest charts\"\n",
              "            style=\"display:none;\">\n",
              "\n",
              "<svg xmlns=\"http://www.w3.org/2000/svg\" height=\"24px\"viewBox=\"0 0 24 24\"\n",
              "     width=\"24px\">\n",
              "    <g>\n",
              "        <path d=\"M19 3H5c-1.1 0-2 .9-2 2v14c0 1.1.9 2 2 2h14c1.1 0 2-.9 2-2V5c0-1.1-.9-2-2-2zM9 17H7v-7h2v7zm4 0h-2V7h2v10zm4 0h-2v-4h2v4z\"/>\n",
              "    </g>\n",
              "</svg>\n",
              "  </button>\n",
              "\n",
              "<style>\n",
              "  .colab-df-quickchart {\n",
              "      --bg-color: #E8F0FE;\n",
              "      --fill-color: #1967D2;\n",
              "      --hover-bg-color: #E2EBFA;\n",
              "      --hover-fill-color: #174EA6;\n",
              "      --disabled-fill-color: #AAA;\n",
              "      --disabled-bg-color: #DDD;\n",
              "  }\n",
              "\n",
              "  [theme=dark] .colab-df-quickchart {\n",
              "      --bg-color: #3B4455;\n",
              "      --fill-color: #D2E3FC;\n",
              "      --hover-bg-color: #434B5C;\n",
              "      --hover-fill-color: #FFFFFF;\n",
              "      --disabled-bg-color: #3B4455;\n",
              "      --disabled-fill-color: #666;\n",
              "  }\n",
              "\n",
              "  .colab-df-quickchart {\n",
              "    background-color: var(--bg-color);\n",
              "    border: none;\n",
              "    border-radius: 50%;\n",
              "    cursor: pointer;\n",
              "    display: none;\n",
              "    fill: var(--fill-color);\n",
              "    height: 32px;\n",
              "    padding: 0;\n",
              "    width: 32px;\n",
              "  }\n",
              "\n",
              "  .colab-df-quickchart:hover {\n",
              "    background-color: var(--hover-bg-color);\n",
              "    box-shadow: 0 1px 2px rgba(60, 64, 67, 0.3), 0 1px 3px 1px rgba(60, 64, 67, 0.15);\n",
              "    fill: var(--button-hover-fill-color);\n",
              "  }\n",
              "\n",
              "  .colab-df-quickchart-complete:disabled,\n",
              "  .colab-df-quickchart-complete:disabled:hover {\n",
              "    background-color: var(--disabled-bg-color);\n",
              "    fill: var(--disabled-fill-color);\n",
              "    box-shadow: none;\n",
              "  }\n",
              "\n",
              "  .colab-df-spinner {\n",
              "    border: 2px solid var(--fill-color);\n",
              "    border-color: transparent;\n",
              "    border-bottom-color: var(--fill-color);\n",
              "    animation:\n",
              "      spin 1s steps(1) infinite;\n",
              "  }\n",
              "\n",
              "  @keyframes spin {\n",
              "    0% {\n",
              "      border-color: transparent;\n",
              "      border-bottom-color: var(--fill-color);\n",
              "      border-left-color: var(--fill-color);\n",
              "    }\n",
              "    20% {\n",
              "      border-color: transparent;\n",
              "      border-left-color: var(--fill-color);\n",
              "      border-top-color: var(--fill-color);\n",
              "    }\n",
              "    30% {\n",
              "      border-color: transparent;\n",
              "      border-left-color: var(--fill-color);\n",
              "      border-top-color: var(--fill-color);\n",
              "      border-right-color: var(--fill-color);\n",
              "    }\n",
              "    40% {\n",
              "      border-color: transparent;\n",
              "      border-right-color: var(--fill-color);\n",
              "      border-top-color: var(--fill-color);\n",
              "    }\n",
              "    60% {\n",
              "      border-color: transparent;\n",
              "      border-right-color: var(--fill-color);\n",
              "    }\n",
              "    80% {\n",
              "      border-color: transparent;\n",
              "      border-right-color: var(--fill-color);\n",
              "      border-bottom-color: var(--fill-color);\n",
              "    }\n",
              "    90% {\n",
              "      border-color: transparent;\n",
              "      border-bottom-color: var(--fill-color);\n",
              "    }\n",
              "  }\n",
              "</style>\n",
              "\n",
              "  <script>\n",
              "    async function quickchart(key) {\n",
              "      const quickchartButtonEl =\n",
              "        document.querySelector('#' + key + ' button');\n",
              "      quickchartButtonEl.disabled = true;  // To prevent multiple clicks.\n",
              "      quickchartButtonEl.classList.add('colab-df-spinner');\n",
              "      try {\n",
              "        const charts = await google.colab.kernel.invokeFunction(\n",
              "            'suggestCharts', [key], {});\n",
              "      } catch (error) {\n",
              "        console.error('Error during call to suggestCharts:', error);\n",
              "      }\n",
              "      quickchartButtonEl.classList.remove('colab-df-spinner');\n",
              "      quickchartButtonEl.classList.add('colab-df-quickchart-complete');\n",
              "    }\n",
              "    (() => {\n",
              "      let quickchartButtonEl =\n",
              "        document.querySelector('#df-746d9df5-7cf8-45c8-b229-04a283788569 button');\n",
              "      quickchartButtonEl.style.display =\n",
              "        google.colab.kernel.accessAllowed ? 'block' : 'none';\n",
              "    })();\n",
              "  </script>\n",
              "</div>\n",
              "\n",
              "    </div>\n",
              "  </div>\n"
            ]
          },
          "metadata": {},
          "execution_count": 10
        }
      ]
    },
    {
      "cell_type": "markdown",
      "source": [
        "Let us also visualize the data to get an insight on building the model."
      ],
      "metadata": {
        "id": "gr3No4H_mdu-"
      }
    },
    {
      "cell_type": "code",
      "source": [
        "# Importing the required library\n",
        "import matplotlib.pyplot as plt\n",
        "%matplotlib inline\n",
        "# Plotting the 'chd' values against 'age' values\n",
        "plt.scatter(\"age\",\"chd\",data=chd)\n",
        "plt.xlabel(\"age\")\n",
        "plt.ylabel(\"chd\")\n",
        "plt.title(\"Age vs. Coronary Heart Disease\")\n"
      ],
      "metadata": {
        "colab": {
          "base_uri": "https://localhost:8080/",
          "height": 490
        },
        "id": "6kWa7EsCmejn",
        "outputId": "46563bd7-a270-45e4-88f5-a655292a12e5"
      },
      "execution_count": 11,
      "outputs": [
        {
          "output_type": "execute_result",
          "data": {
            "text/plain": [
              "Text(0.5, 1.0, 'Age vs. Coronary Heart Disease')"
            ]
          },
          "metadata": {},
          "execution_count": 11
        },
        {
          "output_type": "display_data",
          "data": {
            "text/plain": [
              "<Figure size 640x480 with 1 Axes>"
            ],
            "image/png": "[encoded data removed]"
          },
          "metadata": {}
        }
      ]
    },
    {
      "cell_type": "code",
      "source": [],
      "metadata": {
        "id": "9fvMIdP3mg0Y"
      },
      "execution_count": null,
      "outputs": []
    },
    {
      "cell_type": "markdown",
      "source": [
        "#Building a Logistic Regression model for Coronary heart disease:\n",
        "---\n",
        "To build the model, divide the entire set of samples that we have into training data and test data. Training data is used by the algorithm to learn the model. Test data is used to validate the model.\n"
      ],
      "metadata": {
        "id": "CewPBol1mlpe"
      }
    },
    {
      "cell_type": "code",
      "source": [
        "# Importing the required class\n",
        "from sklearn.model_selection import train_test_split\n",
        "# Specifying the columns as predictor and target variable\n",
        "predictors = [\"age\"]\n",
        "target = \"chd\"\n",
        "X = chd[predictors] # X contains the predictor values or input data\n",
        "y = chd[target] # y contains the target labels\n",
        "# Spliting the data in training and test set in 70:30 ratio\n",
        "X_train, X_test, y_train, y_test = train_test_split(X, y, test_size=0.3, random_state=0)\n",
        "# Checking the shapes of the resulting datasets\n",
        "print(\"Shape of X_train:\", X_train.shape)\n",
        "print(\"Shape of y_train:\", y_train.shape)\n",
        "print(\"Shape of X_test:\", X_test.shape)\n",
        "print(\"Shape of y_test:\", y_test.shape)"
      ],
      "metadata": {
        "colab": {
          "base_uri": "https://localhost:8080/"
        },
        "id": "QS5fx_oxmofl",
        "outputId": "5dbd6a08-7768-4e21-babf-581695aa0de3"
      },
      "execution_count": 12,
      "outputs": [
        {
          "output_type": "stream",
          "name": "stdout",
          "text": [
            "Shape of X_train: (70, 1)\n",
            "Shape of y_train: (70,)\n",
            "Shape of X_test: (30, 1)\n",
            "Shape of y_test: (30,)\n"
          ]
        }
      ]
    },
    {
      "cell_type": "markdown",
      "source": [
        "Now the model can be built using sklearn.linear_model.LogisticRegression class as shown below."
      ],
      "metadata": {
        "id": "gpf2Zu9QmxBE"
      }
    },
    {
      "cell_type": "code",
      "source": [
        "# Importing the required class\n",
        "from sklearn.linear_model import LogisticRegression\n",
        "# Creating the object of the class LogisticRegression\n",
        "model = LogisticRegression()\n",
        "# Training the model using the training data\n",
        "model.fit(X_train,y_train)\n",
        "# Getting the intercept and the coefficients of the model\n",
        "print(\"Intercept:\",model.intercept_,\"\\nCoefficients:\", model.coef_)"
      ],
      "metadata": {
        "colab": {
          "base_uri": "https://localhost:8080/"
        },
        "id": "EbDM1xWCmrHj",
        "outputId": "91747c0a-ab64-4283-b570-e773158ef43d"
      },
      "execution_count": 13,
      "outputs": [
        {
          "output_type": "stream",
          "name": "stdout",
          "text": [
            "Intercept: [-5.65118929] \n",
            "Coefficients: [[0.11144281]]\n"
          ]
        }
      ]
    },
    {
      "cell_type": "markdown",
      "source": [
        "Using this logistic model, the probability of occurrence of coronary heart disease for a person aged 29 can be predicted as shown below:"
      ],
      "metadata": {
        "id": "VxLhX2lfm2Rj"
      }
    },
    {
      "cell_type": "code",
      "source": [
        "# Creating a sample data\n",
        "test=np.array([29]).reshape(1,-1)\n",
        "# Predicting the probabilities for each of the class labels\n",
        "print(\"Predicted probability for class '0' and '1' respectively:\", model.predict_proba(test))\n",
        "# Predicting the final class label or target value\n",
        "print(\"\\nPredicted target i.e. 'chd' value:\",model.predict(test))\n"
      ],
      "metadata": {
        "colab": {
          "base_uri": "https://localhost:8080/"
        },
        "id": "ZHLwEtRTmzlY",
        "outputId": "6394156b-4e71-4ad9-b2bc-0b875960726b"
      },
      "execution_count": 14,
      "outputs": [
        {
          "output_type": "stream",
          "name": "stdout",
          "text": [
            "Predicted probability for class '0' and '1' respectively: [[0.91829082 0.08170918]]\n",
            "\n",
            "Predicted target i.e. 'chd' value: [0]\n"
          ]
        },
        {
          "output_type": "stream",
          "name": "stderr",
          "text": [
            "/usr/local/lib/python3.10/dist-packages/sklearn/base.py:439: UserWarning: X does not have valid feature names, but LogisticRegression was fitted with feature names\n",
            "  warnings.warn(\n",
            "/usr/local/lib/python3.10/dist-packages/sklearn/base.py:439: UserWarning: X does not have valid feature names, but LogisticRegression was fitted with feature names\n",
            "  warnings.warn(\n"
          ]
        }
      ]
    },
    {
      "cell_type": "markdown",
      "source": [
        "The predicted probability for class '0' is higher than predicted probability of class '1' . So class '0' is chosen as the final target value for this instance.\n",
        "\n",
        "Similarly, the probabilities for the class labels can be predicted for other samples.\n",
        "\n",
        "Let us evaluate the model's performance on training and test data using 'accuracy' measure.\n",
        "\n",
        "Accuracy = no. of correct predictions / total predictions\n",
        "\n",
        "The score() function of sklearn gives the accuracy for classification models."
      ],
      "metadata": {
        "id": "gl9X9QSxnLss"
      }
    },
    {
      "cell_type": "code",
      "source": [
        "# Predicting the probabilities for each of the class labels and the final class for a new data\n",
        "test=np.array([29]).reshape(1,-1)\n",
        "print(\"\\nProbabilities:\",model.predict_proba(test),\"\\nChd value:\",model.predict(test))"
      ],
      "metadata": {
        "colab": {
          "base_uri": "https://localhost:8080/"
        },
        "id": "t_t5il84ohpB",
        "outputId": "ebfb588e-b8ec-49e9-ac96-366b9ef56563"
      },
      "execution_count": 17,
      "outputs": [
        {
          "output_type": "stream",
          "name": "stdout",
          "text": [
            "\n",
            "Probabilities: [[0.91829082 0.08170918]] \n",
            "Chd value: [0]\n"
          ]
        },
        {
          "output_type": "stream",
          "name": "stderr",
          "text": [
            "/usr/local/lib/python3.10/dist-packages/sklearn/base.py:439: UserWarning: X does not have valid feature names, but LogisticRegression was fitted with feature names\n",
            "  warnings.warn(\n",
            "/usr/local/lib/python3.10/dist-packages/sklearn/base.py:439: UserWarning: X does not have valid feature names, but LogisticRegression was fitted with feature names\n",
            "  warnings.warn(\n"
          ]
        }
      ]
    },
    {
      "cell_type": "markdown",
      "source": [
        "#Visualization In to a Scatter plot-"
      ],
      "metadata": {
        "id": "SaWtBzXnotBf"
      }
    },
    {
      "cell_type": "code",
      "source": [
        "# Getting the probability for class label '1' for all the samples\n",
        "pred_test = model.predict_proba(X_test)[:,1]\n",
        "\n",
        "# Plotting the actual class labels or target values for the samples\n",
        "plt.scatter(X_test['age'],y_test, label = \"actual target value\")\n",
        "\n",
        "# Plotting the predicted probability for class label '1' for all the samples\n",
        "plt.scatter(X_test['age'],pred_test, label = \"probability of class '1'\",color = \"orange\", marker='o')\n",
        "\n",
        "# Adding the xlabel, ylabel, title and the legend\n",
        "plt.xlabel(\"age\")\n",
        "plt.ylabel(\"chd\")\n",
        "plt.title(\"Predicted probabilities\")\n",
        "plt.legend()"
      ],
      "metadata": {
        "colab": {
          "base_uri": "https://localhost:8080/",
          "height": 490
        },
        "id": "09Koh3IQnOrt",
        "outputId": "0752c96c-c196-40fb-ea40-e44baaf65a24"
      },
      "execution_count": 16,
      "outputs": [
        {
          "output_type": "execute_result",
          "data": {
            "text/plain": [
              "<matplotlib.legend.Legend at 0x7a58164ab490>"
            ]
          },
          "metadata": {},
          "execution_count": 16
        },
        {
          "output_type": "display_data",
          "data": {
            "text/plain": [
              "<Figure size 640x480 with 1 Axes>"
            ],
            "image/png": "[encoded data removed]"
          },
          "metadata": {}
        }
      ]
    },
    {
      "cell_type": "markdown",
      "source": [
        "### Evaluating model performance\n",
        "\n",
        "Accuracy = no. of correct predictions / total predictions"
      ],
      "metadata": {
        "id": "hUtmpQCpoVrE"
      }
    },
    {
      "cell_type": "code",
      "source": [],
      "metadata": {
        "id": "dhyGLh9poWez"
      },
      "execution_count": null,
      "outputs": []
    },
    {
      "cell_type": "code",
      "source": [
        "print(\"Accuracy score of the model on training data:\", model.score(X_train, y_train))\n",
        "print(\"Accuracy score of the model on test data:\", model.score(X_test, y_test))\n"
      ],
      "metadata": {
        "colab": {
          "base_uri": "https://localhost:8080/"
        },
        "id": "Gj5CfFt9m5Gi",
        "outputId": "d722cf97-9368-4096-955f-bed44e1e579a"
      },
      "execution_count": 15,
      "outputs": [
        {
          "output_type": "stream",
          "name": "stdout",
          "text": [
            "Accuracy score of the model on training data: 0.7428571428571429\n",
            "Accuracy score of the model on test data: 0.7333333333333333\n"
          ]
        }
      ]
    },
    {
      "cell_type": "markdown",
      "source": [
        "##Session- ends Here, thanks for visiting...happy Learning...!!!"
      ],
      "metadata": {
        "id": "X4jLZIFoo-xt"
      }
    }
  ]
}
